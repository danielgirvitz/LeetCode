{
 "cells": [
  {
   "cell_type": "markdown",
   "id": "49f7a230",
   "metadata": {},
   "source": [
    "# 0001. Two Sum"
   ]
  },
  {
   "cell_type": "markdown",
   "id": "29c0cbd0",
   "metadata": {},
   "source": [
    "Given an array of integers `nums` and an integer `target`, return *indices of the two numbers such that they add up to `target`*."
   ]
  },
  {
   "cell_type": "markdown",
   "id": "435a95a5",
   "metadata": {},
   "source": [
    "You may assume that each input would have ***exactly* one solution**, and you may not use the *same* element twice."
   ]
  },
  {
   "cell_type": "markdown",
   "id": "3f120c3b-2eae-4799-957c-78a0d0d092df",
   "metadata": {},
   "source": [
    "You can return the answer in any order."
   ]
  },
  {
   "cell_type": "markdown",
   "id": "f1198513",
   "metadata": {},
   "source": [
    "### Examples:"
   ]
  },
  {
   "cell_type": "markdown",
   "id": "f0d0ad24",
   "metadata": {},
   "source": [
    "**Input:** nums = [2,7,11,15], target = 9 <br>\n",
    "**Output:** [0,1] <br>\n",
    "**Explanation:** Because nums[0] + nums[1] == 9, we return [0, 1]. <br>\n",
    "\n",
    "**Input:** nums = [3,2,4], target = 6 <br>\n",
    "**Output:** [1,2] <br>\n",
    "\n",
    "**Input:** nums = [3,3], target = 6 <br>\n",
    "**Output:** [0,1] <br>"
   ]
  },
  {
   "cell_type": "markdown",
   "id": "19ac4259-881a-47a7-a472-4767723891b0",
   "metadata": {},
   "source": [
    "### References:"
   ]
  },
  {
   "cell_type": "markdown",
   "id": "50f2d0c7-6f5b-49b4-a424-9df19ec73105",
   "metadata": {},
   "source": [
    "https://leetcode.com/problems/two-sum/solutions/127810/two-sum/"
   ]
  },
  {
   "cell_type": "markdown",
   "id": "b0b54c62",
   "metadata": {
    "tags": []
   },
   "source": [
    "### Solution 01:"
   ]
  },
  {
   "cell_type": "code",
   "execution_count": 1,
   "id": "3c76bf2a-6fde-46b7-955b-fc7553ecb774",
   "metadata": {},
   "outputs": [],
   "source": [
    "class Solution(object):\n",
    "    def twoSum(self, nums, target):\n",
    "        for i in range(len(nums)):\n",
    "            for j in range(i+1,len(nums)):\n",
    "                if nums[i]+nums[j]==target:\n",
    "                    ans = [i,j]\n",
    "                    break\n",
    "        return ans"
   ]
  },
  {
   "cell_type": "code",
   "execution_count": 2,
   "id": "af813d7d-528b-47b5-b061-3d67b74ae746",
   "metadata": {},
   "outputs": [],
   "source": [
    "object01 = Solution()"
   ]
  },
  {
   "cell_type": "code",
   "execution_count": 3,
   "id": "ebbea8c5-0ff8-4e00-ae48-843980bb3001",
   "metadata": {},
   "outputs": [
    {
     "data": {
      "text/plain": [
       "[0, 1]"
      ]
     },
     "execution_count": 3,
     "metadata": {},
     "output_type": "execute_result"
    }
   ],
   "source": [
    "nums = [2,7,11,15]\n",
    "target = 9\n",
    "object01.twoSum(nums,target)"
   ]
  },
  {
   "cell_type": "code",
   "execution_count": 4,
   "id": "60148e3c-dbba-4dbc-8f13-087b16431e7f",
   "metadata": {},
   "outputs": [
    {
     "data": {
      "text/plain": [
       "[1, 2]"
      ]
     },
     "execution_count": 4,
     "metadata": {},
     "output_type": "execute_result"
    }
   ],
   "source": [
    "nums = [3,2,4]\n",
    "target = 6\n",
    "object01.twoSum(nums,target)"
   ]
  },
  {
   "cell_type": "code",
   "execution_count": 5,
   "id": "ae92e303-d3fa-4202-9ee4-d479138ae6c5",
   "metadata": {},
   "outputs": [
    {
     "data": {
      "text/plain": [
       "[0, 1]"
      ]
     },
     "execution_count": 5,
     "metadata": {},
     "output_type": "execute_result"
    }
   ],
   "source": [
    "nums = [3,3]\n",
    "target = 6\n",
    "object01.twoSum(nums,target)"
   ]
  },
  {
   "cell_type": "markdown",
   "id": "9b6be17d-3c0a-4f3c-b1f0-1221268f2540",
   "metadata": {},
   "source": [
    "### Solution 02:"
   ]
  },
  {
   "cell_type": "code",
   "execution_count": 7,
   "id": "029928fe-2b47-41eb-93b1-286c018a158f",
   "metadata": {},
   "outputs": [],
   "source": [
    "class Solution:\n",
    "    def twoSum(self, nums, target):\n",
    "        hashmap = {}\n",
    "        for i in range(len(nums)):\n",
    "            hashmap[nums[i]] = i\n",
    "        for i in range(len(nums)):\n",
    "            complement = target - nums[i]\n",
    "            if complement in hashmap and hashmap[complement] != i:\n",
    "                return [i, hashmap[complement]] "
   ]
  },
  {
   "cell_type": "code",
   "execution_count": 8,
   "id": "3d8d22aa-821e-4f44-bb98-fcbeccfb04fc",
   "metadata": {},
   "outputs": [],
   "source": [
    "object02 = Solution()"
   ]
  },
  {
   "cell_type": "code",
   "execution_count": 9,
   "id": "f83a32e2-2aec-43da-89f4-489e325caadd",
   "metadata": {},
   "outputs": [
    {
     "data": {
      "text/plain": [
       "[0, 1]"
      ]
     },
     "execution_count": 9,
     "metadata": {},
     "output_type": "execute_result"
    }
   ],
   "source": [
    "nums = [2,7,11,15]\n",
    "target = 9\n",
    "object02.twoSum(nums,target)"
   ]
  },
  {
   "cell_type": "code",
   "execution_count": 10,
   "id": "2597ede3-2650-414b-938c-08ecc3c14fbd",
   "metadata": {},
   "outputs": [
    {
     "data": {
      "text/plain": [
       "[1, 2]"
      ]
     },
     "execution_count": 10,
     "metadata": {},
     "output_type": "execute_result"
    }
   ],
   "source": [
    "nums = [3,2,4]\n",
    "target = 6\n",
    "object02.twoSum(nums,target)"
   ]
  },
  {
   "cell_type": "code",
   "execution_count": 12,
   "id": "8f973f7c-d744-4018-979c-6c290db02a53",
   "metadata": {},
   "outputs": [
    {
     "data": {
      "text/plain": [
       "[0, 1]"
      ]
     },
     "execution_count": 12,
     "metadata": {},
     "output_type": "execute_result"
    }
   ],
   "source": [
    "nums = [3,3]\n",
    "target = 6\n",
    "object02.twoSum(nums,target)"
   ]
  }
 ],
 "metadata": {
  "kernelspec": {
   "display_name": "Python 3 (ipykernel)",
   "language": "python",
   "name": "python3"
  },
  "language_info": {
   "codemirror_mode": {
    "name": "ipython",
    "version": 3
   },
   "file_extension": ".py",
   "mimetype": "text/x-python",
   "name": "python",
   "nbconvert_exporter": "python",
   "pygments_lexer": "ipython3",
   "version": "3.9.12"
  }
 },
 "nbformat": 4,
 "nbformat_minor": 5
}
