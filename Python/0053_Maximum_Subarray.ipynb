{
 "cells": [
  {
   "cell_type": "markdown",
   "id": "49f7a230",
   "metadata": {},
   "source": [
    "# 0053. Maximum Subarray"
   ]
  },
  {
   "cell_type": "markdown",
   "id": "29c0cbd0",
   "metadata": {},
   "source": [
    "Given an integer array `nums`, find the **subarray** which has the largest sum and return *its sum*."
   ]
  },
  {
   "cell_type": "markdown",
   "id": "435a95a5",
   "metadata": {},
   "source": [
    "A **subarray** is a contiguous non-empty sequence of elements within an array."
   ]
  },
  {
   "cell_type": "markdown",
   "id": "f1198513",
   "metadata": {},
   "source": [
    "### Examples:"
   ]
  },
  {
   "cell_type": "markdown",
   "id": "f0d0ad24",
   "metadata": {},
   "source": [
    "**Input:** nums = [-2,1,-3,4,-1,2,1,-5,4] <br>\n",
    "**Output:** 6 <br>\n",
    "**Explanation:** [4,-1,2,1] has the largest sum = 6. <br>\n",
    "\n",
    "**Input:** nums = [1] <br>\n",
    "**Output:** 1 <br>\n",
    "\n",
    "**Input:** nums = [5,4,-1,7,8] <br>\n",
    "**Output:** 23 <br>"
   ]
  },
  {
   "cell_type": "markdown",
   "id": "aa3dfdfd",
   "metadata": {},
   "source": [
    "### References:"
   ]
  },
  {
   "cell_type": "markdown",
   "id": "4a44fc46",
   "metadata": {},
   "source": [
    "https://leetcode.com/problems/maximum-subarray/solutions/1126554/maximum-subarray/?envType=study-plan&id=data-structure-i"
   ]
  },
  {
   "cell_type": "markdown",
   "id": "b0b54c62",
   "metadata": {},
   "source": [
    "### Solution 01:"
   ]
  },
  {
   "cell_type": "code",
   "execution_count": 1,
   "id": "da45e38c",
   "metadata": {},
   "outputs": [],
   "source": [
    "from math import inf\n",
    "\n",
    "class Solution:\n",
    "    def maxSubArray(self):\n",
    "        max_subarray = -inf\n",
    "        for i in range(len(nums)):\n",
    "            current_subarray = 0\n",
    "            for j in range(i, len(nums)):\n",
    "                current_subarray += nums[j]\n",
    "                max_subarray = max(max_subarray, current_subarray)\n",
    "        \n",
    "        return max_subarray"
   ]
  },
  {
   "cell_type": "code",
   "execution_count": 2,
   "id": "099cc1a6",
   "metadata": {},
   "outputs": [
    {
     "data": {
      "text/plain": [
       "6"
      ]
     },
     "execution_count": 2,
     "metadata": {},
     "output_type": "execute_result"
    }
   ],
   "source": [
    "nums = [-2,1,-3,4,-1,2,1,-5,4]\n",
    "Obj01_a = Solution()\n",
    "Obj01_a.maxSubArray()"
   ]
  },
  {
   "cell_type": "code",
   "execution_count": 3,
   "id": "649ced75",
   "metadata": {},
   "outputs": [
    {
     "data": {
      "text/plain": [
       "1"
      ]
     },
     "execution_count": 3,
     "metadata": {},
     "output_type": "execute_result"
    }
   ],
   "source": [
    "nums = [1]\n",
    "Obj01_b = Solution()\n",
    "Obj01_b.maxSubArray()"
   ]
  },
  {
   "cell_type": "code",
   "execution_count": 4,
   "id": "0541974d",
   "metadata": {},
   "outputs": [
    {
     "data": {
      "text/plain": [
       "23"
      ]
     },
     "execution_count": 4,
     "metadata": {},
     "output_type": "execute_result"
    }
   ],
   "source": [
    "nums = [5,4,-1,7,8]\n",
    "Obj01_c = Solution()\n",
    "Obj01_c.maxSubArray()"
   ]
  },
  {
   "cell_type": "markdown",
   "id": "fec644d3",
   "metadata": {},
   "source": [
    "### Solution 02:"
   ]
  },
  {
   "cell_type": "code",
   "execution_count": 5,
   "id": "d7535a3a-864a-4141-9da5-ed027799a126",
   "metadata": {},
   "outputs": [],
   "source": [
    "class Solution:\n",
    "    def maxSubArray(self, nums):\n",
    "        # Initialize our variables using the first element.\n",
    "        current_subarray = max_subarray = nums[0]\n",
    "        \n",
    "        # Start with the 2nd element since we already used the first one.\n",
    "        for num in nums[1:]:\n",
    "            # If current_subarray is negative, throw it away. Otherwise, keep adding to it.\n",
    "            current_subarray = max(num, current_subarray + num)\n",
    "            max_subarray = max(max_subarray, current_subarray)\n",
    "        \n",
    "        return max_subarray"
   ]
  },
  {
   "cell_type": "code",
   "execution_count": 6,
   "id": "ecf15bc5-8e6f-402b-b98c-cf584f35327f",
   "metadata": {},
   "outputs": [
    {
     "data": {
      "text/plain": [
       "6"
      ]
     },
     "execution_count": 6,
     "metadata": {},
     "output_type": "execute_result"
    }
   ],
   "source": [
    "nums = [-2,1,-3,4,-1,2,1,-5,4]\n",
    "Obj02_a = Solution()\n",
    "Obj02_a.maxSubArray(nums)"
   ]
  },
  {
   "cell_type": "code",
   "execution_count": 7,
   "id": "0b75c6d5-4fab-4f44-ae33-55dd7cdc234f",
   "metadata": {},
   "outputs": [
    {
     "data": {
      "text/plain": [
       "1"
      ]
     },
     "execution_count": 7,
     "metadata": {},
     "output_type": "execute_result"
    }
   ],
   "source": [
    "nums = [1]\n",
    "Obj02_b = Solution()\n",
    "Obj02_b.maxSubArray(nums)"
   ]
  },
  {
   "cell_type": "code",
   "execution_count": 8,
   "id": "e1b119a7-fee3-4c13-93f6-e9c1445b6f67",
   "metadata": {},
   "outputs": [
    {
     "data": {
      "text/plain": [
       "23"
      ]
     },
     "execution_count": 8,
     "metadata": {},
     "output_type": "execute_result"
    }
   ],
   "source": [
    "nums = [5,4,-1,7,8]\n",
    "Obj02_c = Solution()\n",
    "Obj02_c.maxSubArray(nums)"
   ]
  }
 ],
 "metadata": {
  "kernelspec": {
   "display_name": "Python 3 (ipykernel)",
   "language": "python",
   "name": "python3"
  },
  "language_info": {
   "codemirror_mode": {
    "name": "ipython",
    "version": 3
   },
   "file_extension": ".py",
   "mimetype": "text/x-python",
   "name": "python",
   "nbconvert_exporter": "python",
   "pygments_lexer": "ipython3",
   "version": "3.9.12"
  }
 },
 "nbformat": 4,
 "nbformat_minor": 5
}
